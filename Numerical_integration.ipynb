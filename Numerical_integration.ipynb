{
 "cells": [
  {
   "cell_type": "code",
   "execution_count": 1,
   "metadata": {},
   "outputs": [
    {
     "name": "stdout",
     "output_type": "stream",
     "text": [
      "Using the Composite Trapezoidal Rule\n",
      "\n",
      "The exact solution is:  2056.0\n",
      "\n",
      "Approximate Error 1 =  215.81550508326848 Absolute Relative Error 1 =  89.6541634241245 % Appoximation 1 =  212.71040000000013\n",
      "Approximate Error 2 =  208.76532070599225 Absolute Relative Error 2 =  84.27529961089493 % Appoximation 2 =  323.29984000000024\n",
      "Approximate Error 3 =  188.84182181752527 Absolute Relative Error 3 =  69.07487626459141 % Appoximation 3 =  635.8205440000006\n",
      "Approximate Error 4 =  43.03582918663955 Absolute Relative Error 4 =  42.166268015564306 % Appoximation 4 =  2922.938470400002\n",
      "\n",
      "Using the Composite 1/3 Simpsons Rule\n",
      "\n",
      "For n =  2 the approximation is:  2056.0 the error is:  [0.0]\n",
      "\n",
      "Using the Composite 3/8 Simpsons Rule\n"
     ]
    }
   ],
   "source": [
    "#!/usr/bin/python\n",
    "\n",
    "# Solution to problem 21.5 Chapra & Canale, Numerical Methods for Engineers 6th Ed., McGraw Hill, New York, NY (2010)\n",
    "# Author: Frank Jenkins\n",
    "\n",
    "# Portion of code adapted from: J. Kiusalass, Numerical Methods in Engineering with Python 3, Cambridge University Press, New York, NY (2013).\n",
    "# Portions of code adapted from: S. Linge & H.P. Langtangen, Programming for Computations - Python, Texts in Computational Science and \n",
    "# Engineering, DOI 10.1007/978-3-319-32428-9_3.\n",
    "# Portions of code adapted from: B. Heinold, An intuitive guide to numerical methods, Dept. of Mathematics and computer science,\n",
    "# Mount St. Mary's Univ. (2013)\n",
    "\n",
    "from sympy import *\n",
    "\n",
    "\n",
    "# x = Symbol('x')\n",
    "# a = Symbol('a')\n",
    "# b = Symbol('b')\n",
    "\n",
    "def f(x):\n",
    "\tf = lambda x: (4*x - 3)**3\n",
    "\treturn f \n",
    "\n",
    "def integral(a, b):\n",
    "\treturn (1/16)*((4*b-3)**4-(4*a-3)**4)\n",
    "\n",
    "I_new2 = []\n",
    "err2 = []\n",
    "\n",
    "def dx(w, x):\n",
    "\tif(w==1):\n",
    "\t\treturn 12*(4*x-3)\n",
    "\tif(w==2):\n",
    "\t\treturn 96*(4*x-3)\n",
    "\tif(w==3):\n",
    "\t\treturn 384\n",
    "\tif(w==4):\n",
    "\t\treturn 0\n",
    "\n",
    "g2 = []\n",
    "err2 = []\n",
    "abserr2 = []\n",
    "err=[]\n",
    "\n",
    "def trap(f, a, b, n):\n",
    "\te = ((b-a)**3)/(12*n**3)\n",
    "\th = (b-a)/n \n",
    "\tg = (f(a) + f(b))/2\n",
    "\tfor i in range(1, n):\n",
    "\t\tg += f(a+i*h)\n",
    "\t\tg *= h\n",
    "\t\terr = abs(e*dx(2, (g - integral(a,b))/integral(a,b)))\n",
    "\t\tabserr = (abs(integral(-3,5) - g)/integral(-3,5))*100\n",
    "\t\tg2.append(g)\n",
    "\t\terr2.append(err)\n",
    "\t\tabserr2.append(abserr)\n",
    "\treturn g\n",
    "\n",
    "print(\"Using the Composite Trapezoidal Rule\")\n",
    "print(\"\")\n",
    "\n",
    "print(\"The exact solution is: \", integral(-3,5))    \n",
    "z = trap(f(\"x\"), -3, 5, 5)\n",
    "\n",
    "print(\"\")\n",
    "\n",
    "for i in range(len(g2)):\n",
    "    print(\"Approximate Error\", i+1, \"= \", abs(err2[i]), \"Absolute Relative Error\", i+1, \"= \", abserr2[i], \"%\", \"Appoximation\", i+1, \"= \", g2[i])\n",
    "\n",
    "print(\"\")\n",
    "print(\"Using the Composite 1/3 Simpsons Rule\")\n",
    "\n",
    "print(\"\")\n",
    "\n",
    "sum1 = []\n",
    "sum2 = []\n",
    "\n",
    "err3 = []\n",
    "\n",
    "s6 = []\n",
    "\n",
    "def sim(f, a, b, n):\n",
    "    if a > b:\n",
    "        print(\"Incorrect bounds\")\n",
    "    if n%2:\n",
    "        print(\"Error: n must be even\")\n",
    "    else:\n",
    "        h = (b-a)/n\n",
    "        s = f(a) + f(b)\n",
    "        for i in range(1, n, 2):\n",
    "            s += 4*f(a + i*h)\n",
    "            k = (s*h)/3\n",
    "            s6.append(k)\n",
    "        for j in range(2, n-1, 2):\n",
    "            s += 2*f(a + i*h)\n",
    "            k = (s*h)/3\n",
    "            s6.append(k)\n",
    "        approx = (s*h)/3\n",
    "        error3 = abs(approx - integral(-3, 5))/abs(integral(-3, 5))*100\n",
    "        err3.append(error3)\n",
    "    return approx\n",
    "\n",
    "n = 2\n",
    "print(\"For n = \", n, \"the approximation is: \", sim(f(\"x\"), -3, 5, n), \"the error is: \", err3)\n",
    "\n",
    "print(\"\")\n",
    "\n",
    "print(\"Using the Composite 3/8 Simpsons Rule\")\n"
   ]
  },
  {
   "cell_type": "code",
   "execution_count": 2,
   "metadata": {},
   "outputs": [],
   "source": [
    "m = 2\n",
    "approx3 = []\n",
    "def sim38(f, a, b, m):\n",
    "\th = (b-a)/m\n",
    "\ts5 = f(a) + f(b)\n",
    "\tfor i in range(m):\n",
    "\t\tif(n%3 == 0):\n",
    "\t\t\ts6 = s5\n",
    "\t\t\ts6 += f(a + i*h)*2\n",
    "\t\t\tapprox2 = ((3*h)/8)*s5\n",
    "\t\t\tapprox3.append(approx2)\n",
    "\t\telse:\n",
    "\t\t\ts6 = s5\n",
    "\t\t\ts6 += f(a + i*h)*3\n",
    "\t\t\tapprox2 = ((3*h)/8)*s5\n",
    "\t\t\tapprox3.append(approx2)\n",
    "\tapprox4 = ((3*h)/8)*s5 \n",
    "\treturn approx4\t"
   ]
  },
  {
   "cell_type": "code",
   "execution_count": 3,
   "metadata": {},
   "outputs": [
    {
     "name": "stdout",
     "output_type": "stream",
     "text": [
      "For n =  2 the approximation is:  2307.0\n"
     ]
    }
   ],
   "source": [
    "z = sim38(f(\"x\"), -3, 5, m)\n",
    "print(\"For n = \", m, \"the approximation is: \", abs(z))\n"
   ]
  },
  {
   "cell_type": "code",
   "execution_count": 4,
   "metadata": {},
   "outputs": [
    {
     "name": "stdout",
     "output_type": "stream",
     "text": [
      "2140.5\n"
     ]
    }
   ],
   "source": [
    "s6 = []\n",
    "\n",
    "def sim(f, a, b, p):\n",
    "    if p%2:\n",
    "        print(\"Error: n must be even\")\n",
    "    h = (b-a)/p\n",
    "    s = f(a) + f(b)\n",
    "    for i in range(1, n, 2):\n",
    "        s += 4*f(a + i*h)\n",
    "        s6.append(s)\n",
    "    for j in range(2, p-1, 2):\n",
    "        s += 2*f(a + i*h)\n",
    "        s6.append(s)\n",
    "    return (s*h)/3\n",
    "\n",
    "p = 6\n",
    "zy = sim(f(\"x\"), 2, 5, p)\n",
    "zz = sim38(f(\"x\"), -3, 1, p)\n",
    "\n",
    "print(abs(zy) + abs(zz))\n",
    "\n"
   ]
  },
  {
   "cell_type": "code",
   "execution_count": 5,
   "metadata": {},
   "outputs": [
    {
     "name": "stdout",
     "output_type": "stream",
     "text": [
      "Using Simpson's 1/3 Quadrature rule\n",
      "\n",
      "27920.0\n",
      "0.0001\n",
      "0.0\n",
      "0.0\n",
      "0.0\n",
      "0.0\n",
      "0.0\n",
      "0.0\n",
      "0.0\n",
      "0.0\n"
     ]
    }
   ],
   "source": [
    "print(\"Using Simpson's 1/3 Quadrature rule\")\n",
    "print(\"\")\n",
    "\n",
    "def simquad(f, a, b, q):\n",
    "    h = (b-a)/q\n",
    "    x1 = (a+b)/2\n",
    "    quad = 2*h*f(a) + (h**3/3)*dx(2, x1) + (h**3/3)*dx(3, x1) - (h**3/3)*dx(4, x1)\n",
    "    quaderr = dx(4, x1)*h**5\n",
    "    return round(quad, 4)\n",
    "\n",
    "\n",
    "for q in range(1, 10000000000, 1000000000):\n",
    "    yy = simquad(f(\"x\"), -3, 5, q)\n",
    "    yy = yy\n",
    "    print(abs(yy))\n"
   ]
  },
  {
   "cell_type": "code",
   "execution_count": 6,
   "metadata": {},
   "outputs": [
    {
     "name": "stdout",
     "output_type": "stream",
     "text": [
      "Using Romberg Approximation\n",
      "\n",
      "The approximation is:  2922.938470400002\n",
      "nPanels =  16\n",
      "The approximation is:  2843.019670994945\n",
      "nPanels =  512\n"
     ]
    }
   ],
   "source": [
    "print(\"Using Romberg Approximation\")\n",
    "print(\"\")\n",
    "\n",
    "s7 = 0.0\n",
    "for k in 5, 10:\n",
    "    s8 = trap(f(\"x\"), -3, 5, k)\n",
    "    if(k>1 and (abs(s8 - s7)) < 1e-6):\n",
    "        break\n",
    "        s7 = s8\n",
    "    print(\"The approximation is: \", s8)\n",
    "    print(\"nPanels = \", 2**(k-1))"
   ]
  }
 ],
 "metadata": {
  "kernelspec": {
   "display_name": "Python 3",
   "language": "python",
   "name": "python3"
  },
  "language_info": {
   "codemirror_mode": {
    "name": "ipython",
    "version": 3
   },
   "file_extension": ".py",
   "mimetype": "text/x-python",
   "name": "python",
   "nbconvert_exporter": "python",
   "pygments_lexer": "ipython3",
   "version": "3.6.5"
  }
 },
 "nbformat": 4,
 "nbformat_minor": 2
}
